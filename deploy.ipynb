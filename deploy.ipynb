{
 "cells": [
  {
   "cell_type": "code",
   "execution_count": 1,
   "metadata": {},
   "outputs": [],
   "source": [
    "import warnings\n",
    "warnings.simplefilter(\"ignore\")"
   ]
  },
  {
   "cell_type": "code",
   "execution_count": 2,
   "metadata": {},
   "outputs": [],
   "source": [
    "import streamlit as st"
   ]
  },
  {
   "cell_type": "code",
   "execution_count": 3,
   "metadata": {},
   "outputs": [],
   "source": [
    "import pandas as pd"
   ]
  },
  {
   "cell_type": "code",
   "execution_count": 4,
   "metadata": {},
   "outputs": [],
   "source": [
    "import json"
   ]
  },
  {
   "cell_type": "code",
   "execution_count": 5,
   "metadata": {},
   "outputs": [],
   "source": [
    "import ast"
   ]
  },
  {
   "cell_type": "markdown",
   "metadata": {},
   "source": [
    "# Import trained model"
   ]
  },
  {
   "cell_type": "code",
   "execution_count": 13,
   "metadata": {},
   "outputs": [],
   "source": [
    "final_result_df = pd.read_excel('final_result.xlsx')"
   ]
  },
  {
   "cell_type": "code",
   "execution_count": 7,
   "metadata": {},
   "outputs": [],
   "source": [
    "final_result_df = final_result_df[['antecedents','consequents','confidence']]"
   ]
  },
  {
   "cell_type": "code",
   "execution_count": 14,
   "metadata": {},
   "outputs": [],
   "source": [
    "final_item_df = pd.read_excel('item_name_final.xlsx')"
   ]
  },
  {
   "cell_type": "markdown",
   "metadata": {},
   "source": [
    "# Prediction function"
   ]
  },
  {
   "cell_type": "code",
   "execution_count": 271,
   "metadata": {},
   "outputs": [],
   "source": [
    "def recommendation_prediction(buy_item_list, final_result_df):\n",
    "    recommendation_list = []\n",
    "    for index, row in final_result_df.iterrows():\n",
    "        if sorted(set(buy_item_list)) == sorted(set(ast.literal_eval(row['antecedents']))):\n",
    "            antecedents = sorted(set(ast.literal_eval(row['antecedents'])))\n",
    "            consequents = sorted(ast.literal_eval(row['consequents']))\n",
    "            confidence = row['confidence']\n",
    "            recommendation_list.append([antecedents, consequents, confidence])\n",
    "\n",
    "    df = pd.DataFrame(columns=['antecedents', 'consequents', 'count_consequents', 'confidence'])\n",
    "    \n",
    "    for data in recommendation_list:\n",
    "        df = pd.concat([df, pd.DataFrame({\n",
    "            'antecedents': [data[0]],\n",
    "            'consequents': [data[1]],\n",
    "            'count_consequents': len(data[1]),\n",
    "            'confidence': data[2]\n",
    "            })], ignore_index=True)\n",
    "        \n",
    "    df = df.sort_values(by=['confidence', 'count_consequents'], ascending=[False, True])\n",
    "\n",
    "    return df"
   ]
  },
  {
   "cell_type": "markdown",
   "metadata": {},
   "source": [
    "# Prediction function"
   ]
  },
  {
   "cell_type": "code",
   "execution_count": 273,
   "metadata": {},
   "outputs": [],
   "source": [
    "def main():\n",
    "    st.title('Online retail selling signal')\n",
    "\n",
    "    item_list = sorted(final_item_df['Description'].unique().tolist())\n",
    "\n",
    "    item_option1 = st.selectbox(\"Item number 1:\", item_list, key='item_option1')\n",
    "    item_option2 = st.selectbox(\"Item number 2:\", item_list, key='item_option2')\n",
    "    item_option3 = st.selectbox(\"Item number 3:\", item_list, key='item_option3')\n",
    "    item_option4 = st.selectbox(\"Item number 4:\", item_list, key='item_option4')\n",
    "    item_option5 = st.selectbox(\"Item number 5:\", item_list, key='item_option5')\n",
    "\n",
    "    input_list = [item_option1, item_option2, item_option3, item_option4, item_option5]\n",
    "    input_list = [x for x in input_list if x != 'No item']\n",
    "    input_list = list(set(input_list))\n",
    "\n",
    "    output = ''\n",
    "    prediction_result_df = []\n",
    "\n",
    "    if st.button('Predict'):\n",
    "        prediction_result_df = recommendation_prediction(input_list)\n",
    "        st.dataframe(prediction_result_df)"
   ]
  },
  {
   "cell_type": "code",
   "execution_count": 274,
   "metadata": {},
   "outputs": [
    {
     "name": "stderr",
     "output_type": "stream",
     "text": [
      "2024-02-27 02:43:40.559 \n",
      "  \u001b[33m\u001b[1mWarning:\u001b[0m to view this Streamlit app on a browser, run it with the following\n",
      "  command:\n",
      "\n",
      "    streamlit run c:\\Users\\peerapat\\anaconda3\\Lib\\site-packages\\ipykernel_launcher.py [ARGUMENTS]\n"
     ]
    }
   ],
   "source": [
    "if __name__ == '__main__':\n",
    "    main()"
   ]
  }
 ],
 "metadata": {
  "kernelspec": {
   "display_name": "base",
   "language": "python",
   "name": "python3"
  },
  "language_info": {
   "codemirror_mode": {
    "name": "ipython",
    "version": 3
   },
   "file_extension": ".py",
   "mimetype": "text/x-python",
   "name": "python",
   "nbconvert_exporter": "python",
   "pygments_lexer": "ipython3",
   "version": "3.11.5"
  }
 },
 "nbformat": 4,
 "nbformat_minor": 2
}
