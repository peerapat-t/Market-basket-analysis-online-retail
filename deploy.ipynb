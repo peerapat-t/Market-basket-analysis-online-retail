{
 "cells": [
  {
   "cell_type": "code",
   "execution_count": null,
   "metadata": {},
   "outputs": [],
   "source": [
    "import warnings\n",
    "warnings.simplefilter(\"ignore\")"
   ]
  },
  {
   "cell_type": "code",
   "execution_count": null,
   "metadata": {},
   "outputs": [],
   "source": [
    "import streamlit as st"
   ]
  },
  {
   "cell_type": "code",
   "execution_count": null,
   "metadata": {},
   "outputs": [],
   "source": [
    "import pandas as pd"
   ]
  },
  {
   "cell_type": "code",
   "execution_count": null,
   "metadata": {},
   "outputs": [],
   "source": [
    "import json"
   ]
  },
  {
   "cell_type": "markdown",
   "metadata": {},
   "source": [
    "# Import trained model"
   ]
  },
  {
   "cell_type": "code",
   "execution_count": null,
   "metadata": {},
   "outputs": [],
   "source": [
    "# Loading JSON data from file\n",
    "with open(\"output.json\", \"r\") as json_file:\n",
    "    recommendation_rule = json.load(json_file)"
   ]
  },
  {
   "cell_type": "code",
   "execution_count": null,
   "metadata": {},
   "outputs": [],
   "source": [
    "# for i in recommendation_rule:\n",
    "#     print(i['origin'][0])"
   ]
  },
  {
   "cell_type": "markdown",
   "metadata": {},
   "source": [
    "# Create function"
   ]
  },
  {
   "cell_type": "code",
   "execution_count": null,
   "metadata": {},
   "outputs": [],
   "source": [
    "def recommendation_prediction(buy_item_set):\n",
    "    recommendation_list = []\n",
    "    for rule in recommendation_rule:\n",
    "        if set(buy_item_set).issubset(set(rule['origin'])):\n",
    "            recommendation_list.append([rule['origin'], rule['destination'], rule['confidence']])\n",
    "    \n",
    "    df = pd.DataFrame(columns=['origin', 'destination', 'count_destination', 'confidence'])\n",
    "    for data in recommendation_list:\n",
    "        df = pd.concat([df, pd.DataFrame({\n",
    "            'origin': [data[0][0]],\n",
    "            'destination': [', '.join(data[1][0].split(', '))],\n",
    "            'count_destination': [len(data[1][0].split(', '))],\n",
    "            'confidence': [data[2]]\n",
    "            })], ignore_index=True)\n",
    "\n",
    "    df['count_destination'] = pd.to_numeric(df['count_destination'], errors='coerce')\n",
    "    df = df.groupby(['origin', 'destination']).apply(lambda x: x.nlargest(1, 'confidence').nsmallest(1, 'count_destination')).reset_index(drop=True)\n",
    "\n",
    "    # If still multiple rows exist, randomly select one\n",
    "    if len(df) > 1:\n",
    "        df = df.sample(n=1)\n",
    "    return df"
   ]
  },
  {
   "cell_type": "markdown",
   "metadata": {},
   "source": [
    "# Prediction function"
   ]
  },
  {
   "cell_type": "code",
   "execution_count": null,
   "metadata": {},
   "outputs": [],
   "source": [
    "def main():\n",
    "    st.title('Car insurance selling signal')\n",
    "\n",
    "    itm_list = ['No item',\n",
    "                '60 TEATIME FAIRY CAKE CASES',\n",
    "                '72 SWEETHEART FAIRY CAKE CASES',\n",
    "                '60 TEATIME FAIRY CAKE CASES',\n",
    "                'PACK OF 60 PINK PAISLEY CAKE CASES',\n",
    "                'CHOCOLATE HOT WATER BOTTLE',\n",
    "                'HOT WATER BOTTLE TEA AND SYMPATHY',\n",
    "                'HOME BUILDING BLOCK WORD',\n",
    "                'LOVE BUILDING BLOCK WORD',\n",
    "                'STRAWBERRY CERAMIC TRINKET BOX',\n",
    "                'SWEETHEART CERAMIC TRINKET BOX',\n",
    "                'VINTAGE HEADS AND TAILS CARD GAME',\n",
    "                'VINTAGE SNAP CARDS']\n",
    "\n",
    "    item_option1 = st.selectbox(\"Item number 1:\", itm_list, key='item_option1')\n",
    "    item_option2 = st.selectbox(\"Item number 2:\", itm_list, key='item_option2')\n",
    "    item_option3 = st.selectbox(\"Item number 3:\", itm_list, key='item_option3')\n",
    "    item_option4 = st.selectbox(\"Item number 4:\", itm_list, key='item_option4')\n",
    "    item_option5 = st.selectbox(\"Item number 5:\", itm_list, key='item_option5')\n",
    "\n",
    "    input_list = [item_option1, item_option2, item_option3, item_option4, item_option5]\n",
    "    input_list = [x for x in input_list if x != 'No item']\n",
    "\n",
    "    output = ''\n",
    "    if st.button('Predict'):\n",
    "        prediction_result_df = recommendation_prediction(input_list)\n",
    "\n",
    "        if len(input_list) == 0:\n",
    "            output = 'No recommendation'\n",
    "        else:\n",
    "            output = recommendation_prediction(input_list)['destination'][0]\n",
    "\n",
    "    st.success(f'Prediction Result: {output}')"
   ]
  },
  {
   "cell_type": "code",
   "execution_count": null,
   "metadata": {},
   "outputs": [],
   "source": [
    "if __name__ == '__main__':\n",
    "    main()"
   ]
  }
 ],
 "metadata": {
  "kernelspec": {
   "display_name": "base",
   "language": "python",
   "name": "python3"
  },
  "language_info": {
   "codemirror_mode": {
    "name": "ipython",
    "version": 3
   },
   "file_extension": ".py",
   "mimetype": "text/x-python",
   "name": "python",
   "nbconvert_exporter": "python",
   "pygments_lexer": "ipython3",
   "version": "3.11.5"
  }
 },
 "nbformat": 4,
 "nbformat_minor": 2
}
