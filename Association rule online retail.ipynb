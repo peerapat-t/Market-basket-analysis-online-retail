{
 "cells": [
  {
   "cell_type": "code",
   "execution_count": 120,
   "metadata": {},
   "outputs": [],
   "source": [
    "# https://www.kaggle.com/code/ozlemilgun/market-basket-analysis-with-apriori-algorithm\n",
    "# https://www.facebook.com/tautologyai/videos/303900072700235"
   ]
  },
  {
   "cell_type": "code",
   "execution_count": 121,
   "metadata": {},
   "outputs": [],
   "source": [
    "import warnings\n",
    "warnings.simplefilter(\"ignore\")"
   ]
  },
  {
   "cell_type": "code",
   "execution_count": 122,
   "metadata": {},
   "outputs": [],
   "source": [
    "import pandas as pd\n",
    "import numpy as np\n",
    "import matplotlib.pyplot as plt\n",
    "import seaborn as sns"
   ]
  },
  {
   "cell_type": "markdown",
   "metadata": {},
   "source": [
    "# 1. Load data"
   ]
  },
  {
   "cell_type": "code",
   "execution_count": 123,
   "metadata": {},
   "outputs": [],
   "source": [
    "df = pd.read_excel(\"online_retail_II.xlsx\")"
   ]
  },
  {
   "cell_type": "code",
   "execution_count": 124,
   "metadata": {},
   "outputs": [
    {
     "data": {
      "text/html": [
       "<div>\n",
       "<style scoped>\n",
       "    .dataframe tbody tr th:only-of-type {\n",
       "        vertical-align: middle;\n",
       "    }\n",
       "\n",
       "    .dataframe tbody tr th {\n",
       "        vertical-align: top;\n",
       "    }\n",
       "\n",
       "    .dataframe thead th {\n",
       "        text-align: right;\n",
       "    }\n",
       "</style>\n",
       "<table border=\"1\" class=\"dataframe\">\n",
       "  <thead>\n",
       "    <tr style=\"text-align: right;\">\n",
       "      <th></th>\n",
       "      <th>Invoice</th>\n",
       "      <th>StockCode</th>\n",
       "      <th>Description</th>\n",
       "      <th>Quantity</th>\n",
       "      <th>InvoiceDate</th>\n",
       "      <th>Price</th>\n",
       "      <th>Customer ID</th>\n",
       "      <th>Country</th>\n",
       "    </tr>\n",
       "  </thead>\n",
       "  <tbody>\n",
       "    <tr>\n",
       "      <th>303987</th>\n",
       "      <td>519015</td>\n",
       "      <td>22624</td>\n",
       "      <td>IVORY KITCHEN SCALES</td>\n",
       "      <td>1</td>\n",
       "      <td>2010-08-13 09:13:00</td>\n",
       "      <td>16.98</td>\n",
       "      <td>NaN</td>\n",
       "      <td>United Kingdom</td>\n",
       "    </tr>\n",
       "    <tr>\n",
       "      <th>32131</th>\n",
       "      <td>491981</td>\n",
       "      <td>85047</td>\n",
       "      <td>WHITE BEADED GARLAND STRING 20LIGHT</td>\n",
       "      <td>6</td>\n",
       "      <td>2009-12-15 09:34:00</td>\n",
       "      <td>6.35</td>\n",
       "      <td>13468.0</td>\n",
       "      <td>United Kingdom</td>\n",
       "    </tr>\n",
       "    <tr>\n",
       "      <th>348587</th>\n",
       "      <td>523313</td>\n",
       "      <td>22946</td>\n",
       "      <td>WOODEN ADVENT CALENDAR CREAM</td>\n",
       "      <td>4</td>\n",
       "      <td>2010-09-21 13:21:00</td>\n",
       "      <td>16.95</td>\n",
       "      <td>14936.0</td>\n",
       "      <td>Channel Islands</td>\n",
       "    </tr>\n",
       "    <tr>\n",
       "      <th>305472</th>\n",
       "      <td>519198</td>\n",
       "      <td>22469</td>\n",
       "      <td>HEART OF WICKER SMALL</td>\n",
       "      <td>3</td>\n",
       "      <td>2010-08-15 10:28:00</td>\n",
       "      <td>1.65</td>\n",
       "      <td>16104.0</td>\n",
       "      <td>United Kingdom</td>\n",
       "    </tr>\n",
       "    <tr>\n",
       "      <th>6852</th>\n",
       "      <td>490003</td>\n",
       "      <td>21977</td>\n",
       "      <td>PACK OF 60 PINK PAISLEY CAKE CASES</td>\n",
       "      <td>24</td>\n",
       "      <td>2009-12-03 11:51:00</td>\n",
       "      <td>0.55</td>\n",
       "      <td>16159.0</td>\n",
       "      <td>United Kingdom</td>\n",
       "    </tr>\n",
       "  </tbody>\n",
       "</table>\n",
       "</div>"
      ],
      "text/plain": [
       "       Invoice StockCode                          Description  Quantity  \\\n",
       "303987  519015     22624                 IVORY KITCHEN SCALES         1   \n",
       "32131   491981     85047  WHITE BEADED GARLAND STRING 20LIGHT         6   \n",
       "348587  523313     22946         WOODEN ADVENT CALENDAR CREAM         4   \n",
       "305472  519198     22469                HEART OF WICKER SMALL         3   \n",
       "6852    490003     21977   PACK OF 60 PINK PAISLEY CAKE CASES        24   \n",
       "\n",
       "               InvoiceDate  Price  Customer ID          Country  \n",
       "303987 2010-08-13 09:13:00  16.98          NaN   United Kingdom  \n",
       "32131  2009-12-15 09:34:00   6.35      13468.0   United Kingdom  \n",
       "348587 2010-09-21 13:21:00  16.95      14936.0  Channel Islands  \n",
       "305472 2010-08-15 10:28:00   1.65      16104.0   United Kingdom  \n",
       "6852   2009-12-03 11:51:00   0.55      16159.0   United Kingdom  "
      ]
     },
     "execution_count": 124,
     "metadata": {},
     "output_type": "execute_result"
    }
   ],
   "source": [
    "df.sample(5)"
   ]
  },
  {
   "cell_type": "code",
   "execution_count": 125,
   "metadata": {},
   "outputs": [
    {
     "data": {
      "text/plain": [
       "(525461, 8)"
      ]
     },
     "execution_count": 125,
     "metadata": {},
     "output_type": "execute_result"
    }
   ],
   "source": [
    "df.shape"
   ]
  },
  {
   "cell_type": "markdown",
   "metadata": {},
   "source": [
    "# 2. Check data quality"
   ]
  },
  {
   "cell_type": "code",
   "execution_count": 126,
   "metadata": {},
   "outputs": [],
   "source": [
    "# columns name"
   ]
  },
  {
   "cell_type": "code",
   "execution_count": 127,
   "metadata": {},
   "outputs": [
    {
     "data": {
      "text/plain": [
       "Index(['Invoice', 'StockCode', 'Description', 'Quantity', 'InvoiceDate',\n",
       "       'Price', 'Customer ID', 'Country'],\n",
       "      dtype='object')"
      ]
     },
     "execution_count": 127,
     "metadata": {},
     "output_type": "execute_result"
    }
   ],
   "source": [
    "df.columns"
   ]
  },
  {
   "cell_type": "code",
   "execution_count": 128,
   "metadata": {},
   "outputs": [],
   "source": [
    "# select only useful columns"
   ]
  },
  {
   "cell_type": "code",
   "execution_count": 129,
   "metadata": {},
   "outputs": [],
   "source": [
    "df = df[['Invoice','StockCode','Description']]"
   ]
  },
  {
   "cell_type": "code",
   "execution_count": 130,
   "metadata": {},
   "outputs": [],
   "source": [
    "# data type"
   ]
  },
  {
   "cell_type": "code",
   "execution_count": 131,
   "metadata": {},
   "outputs": [
    {
     "name": "stdout",
     "output_type": "stream",
     "text": [
      "<class 'pandas.core.frame.DataFrame'>\n",
      "RangeIndex: 525461 entries, 0 to 525460\n",
      "Data columns (total 3 columns):\n",
      " #   Column       Non-Null Count   Dtype \n",
      "---  ------       --------------   ----- \n",
      " 0   Invoice      525461 non-null  object\n",
      " 1   StockCode    525461 non-null  object\n",
      " 2   Description  522533 non-null  object\n",
      "dtypes: object(3)\n",
      "memory usage: 12.0+ MB\n"
     ]
    }
   ],
   "source": [
    "df.info()"
   ]
  },
  {
   "cell_type": "code",
   "execution_count": 132,
   "metadata": {},
   "outputs": [],
   "source": [
    "# check missing value"
   ]
  },
  {
   "cell_type": "code",
   "execution_count": 133,
   "metadata": {},
   "outputs": [
    {
     "data": {
      "text/plain": [
       "Invoice           0\n",
       "StockCode         0\n",
       "Description    2928\n",
       "dtype: int64"
      ]
     },
     "execution_count": 133,
     "metadata": {},
     "output_type": "execute_result"
    }
   ],
   "source": [
    "df.isna().sum()"
   ]
  },
  {
   "cell_type": "code",
   "execution_count": 134,
   "metadata": {},
   "outputs": [],
   "source": [
    "df = df.dropna()"
   ]
  },
  {
   "cell_type": "code",
   "execution_count": 135,
   "metadata": {},
   "outputs": [],
   "source": [
    "# check white space"
   ]
  },
  {
   "cell_type": "code",
   "execution_count": 136,
   "metadata": {},
   "outputs": [],
   "source": [
    "def empty_or_whitespace_strings(df):\n",
    "    string_columns = df.select_dtypes(include=['object']).columns\n",
    "    empty_whitespace_check = df[string_columns].applymap(lambda x: isinstance(x, str) and x.isspace())\n",
    "\n",
    "    count_empty_whitespace = empty_whitespace_check.sum()\n",
    "    rows_with_whitespace_indices = empty_whitespace_check.any(axis=1)\n",
    "    list_row_with_whilespace_indices = df.index[rows_with_whitespace_indices].tolist()\n",
    "\n",
    "    return count_empty_whitespace, list_row_with_whilespace_indices"
   ]
  },
  {
   "cell_type": "code",
   "execution_count": 137,
   "metadata": {},
   "outputs": [],
   "source": [
    "show_whilespace, indices_whilesapce = empty_or_whitespace_strings(df)"
   ]
  },
  {
   "cell_type": "code",
   "execution_count": 138,
   "metadata": {},
   "outputs": [
    {
     "data": {
      "text/plain": [
       "Invoice        0\n",
       "StockCode      0\n",
       "Description    0\n",
       "dtype: int64"
      ]
     },
     "execution_count": 138,
     "metadata": {},
     "output_type": "execute_result"
    }
   ],
   "source": [
    "show_whilespace"
   ]
  },
  {
   "cell_type": "code",
   "execution_count": 139,
   "metadata": {},
   "outputs": [],
   "source": [
    "# check unique value"
   ]
  },
  {
   "cell_type": "code",
   "execution_count": 140,
   "metadata": {},
   "outputs": [
    {
     "name": "stdout",
     "output_type": "stream",
     "text": [
      "Columns name:  Invoice\n",
      "Unique value:  [489434 489435 489436 ... 538169 538170 538171]\n",
      "Count unique value:  25888\n",
      "----------\n",
      "Columns name:  StockCode\n",
      "Unique value:  [85048 '79323P' '79323W' ... 22935 22933 21120]\n",
      "Count unique value:  4276\n",
      "----------\n",
      "Columns name:  Description\n",
      "Unique value:  ['15CM CHRISTMAS GLASS BALL 20 LIGHTS' 'PINK CHERRY LIGHTS'\n",
      " ' WHITE CHERRY LIGHTS' ... '*Boombox Ipod Classic' 'faulty'\n",
      " 'Dotcom sales']\n",
      "Count unique value:  4681\n",
      "----------\n"
     ]
    }
   ],
   "source": [
    "for i in df.columns:\n",
    "    print('Columns name: ', i)\n",
    "    print('Unique value: ', df[i].unique())\n",
    "    print('Count unique value: ', df[i].nunique())\n",
    "    print('-'*10)"
   ]
  },
  {
   "cell_type": "code",
   "execution_count": 141,
   "metadata": {},
   "outputs": [],
   "source": [
    "# check Description"
   ]
  },
  {
   "cell_type": "code",
   "execution_count": 142,
   "metadata": {},
   "outputs": [],
   "source": [
    "description_counts = df.groupby('StockCode').agg(number_description=('Description', pd.Series.nunique)).reset_index()"
   ]
  },
  {
   "cell_type": "code",
   "execution_count": 143,
   "metadata": {},
   "outputs": [],
   "source": [
    "multiple_descriptions = description_counts[description_counts['number_description'] > 1]"
   ]
  },
  {
   "cell_type": "code",
   "execution_count": 144,
   "metadata": {},
   "outputs": [],
   "source": [
    "multiple_descriptions = multiple_descriptions.sort_values(\"number_description\", ascending=False)"
   ]
  },
  {
   "cell_type": "code",
   "execution_count": 145,
   "metadata": {},
   "outputs": [
    {
     "data": {
      "text/html": [
       "<div>\n",
       "<style scoped>\n",
       "    .dataframe tbody tr th:only-of-type {\n",
       "        vertical-align: middle;\n",
       "    }\n",
       "\n",
       "    .dataframe tbody tr th {\n",
       "        vertical-align: top;\n",
       "    }\n",
       "\n",
       "    .dataframe thead th {\n",
       "        text-align: right;\n",
       "    }\n",
       "</style>\n",
       "<table border=\"1\" class=\"dataframe\">\n",
       "  <thead>\n",
       "    <tr style=\"text-align: right;\">\n",
       "      <th></th>\n",
       "      <th>StockCode</th>\n",
       "      <th>number_description</th>\n",
       "    </tr>\n",
       "  </thead>\n",
       "  <tbody>\n",
       "    <tr>\n",
       "      <th>1522</th>\n",
       "      <td>22423</td>\n",
       "      <td>6</td>\n",
       "    </tr>\n",
       "    <tr>\n",
       "      <th>1817</th>\n",
       "      <td>22734</td>\n",
       "      <td>5</td>\n",
       "    </tr>\n",
       "    <tr>\n",
       "      <th>1454</th>\n",
       "      <td>22345</td>\n",
       "      <td>4</td>\n",
       "    </tr>\n",
       "    <tr>\n",
       "      <th>3805</th>\n",
       "      <td>85099B</td>\n",
       "      <td>4</td>\n",
       "    </tr>\n",
       "    <tr>\n",
       "      <th>1489</th>\n",
       "      <td>22384</td>\n",
       "      <td>4</td>\n",
       "    </tr>\n",
       "    <tr>\n",
       "      <th>...</th>\n",
       "      <td>...</td>\n",
       "      <td>...</td>\n",
       "    </tr>\n",
       "    <tr>\n",
       "      <th>1475</th>\n",
       "      <td>22366</td>\n",
       "      <td>2</td>\n",
       "    </tr>\n",
       "    <tr>\n",
       "      <th>1476</th>\n",
       "      <td>22367</td>\n",
       "      <td>2</td>\n",
       "    </tr>\n",
       "    <tr>\n",
       "      <th>1486</th>\n",
       "      <td>22381</td>\n",
       "      <td>2</td>\n",
       "    </tr>\n",
       "    <tr>\n",
       "      <th>1487</th>\n",
       "      <td>22382</td>\n",
       "      <td>2</td>\n",
       "    </tr>\n",
       "    <tr>\n",
       "      <th>4259</th>\n",
       "      <td>DCGSSGIRL</td>\n",
       "      <td>2</td>\n",
       "    </tr>\n",
       "  </tbody>\n",
       "</table>\n",
       "<p>687 rows × 2 columns</p>\n",
       "</div>"
      ],
      "text/plain": [
       "      StockCode  number_description\n",
       "1522      22423                   6\n",
       "1817      22734                   5\n",
       "1454      22345                   4\n",
       "3805     85099B                   4\n",
       "1489      22384                   4\n",
       "...         ...                 ...\n",
       "1475      22366                   2\n",
       "1476      22367                   2\n",
       "1486      22381                   2\n",
       "1487      22382                   2\n",
       "4259  DCGSSGIRL                   2\n",
       "\n",
       "[687 rows x 2 columns]"
      ]
     },
     "execution_count": 145,
     "metadata": {},
     "output_type": "execute_result"
    }
   ],
   "source": [
    "multiple_descriptions"
   ]
  },
  {
   "cell_type": "code",
   "execution_count": 146,
   "metadata": {},
   "outputs": [
    {
     "data": {
      "text/html": [
       "<div>\n",
       "<style scoped>\n",
       "    .dataframe tbody tr th:only-of-type {\n",
       "        vertical-align: middle;\n",
       "    }\n",
       "\n",
       "    .dataframe tbody tr th {\n",
       "        vertical-align: top;\n",
       "    }\n",
       "\n",
       "    .dataframe thead th {\n",
       "        text-align: right;\n",
       "    }\n",
       "</style>\n",
       "<table border=\"1\" class=\"dataframe\">\n",
       "  <thead>\n",
       "    <tr style=\"text-align: right;\">\n",
       "      <th></th>\n",
       "      <th>Invoice</th>\n",
       "      <th>StockCode</th>\n",
       "      <th>Description</th>\n",
       "    </tr>\n",
       "  </thead>\n",
       "  <tbody>\n",
       "    <tr>\n",
       "      <th>241372</th>\n",
       "      <td>512738</td>\n",
       "      <td>DCGSSGIRL</td>\n",
       "      <td>update</td>\n",
       "    </tr>\n",
       "    <tr>\n",
       "      <th>244831</th>\n",
       "      <td>513099</td>\n",
       "      <td>DCGSSGIRL</td>\n",
       "      <td>GIRLS PARTY BAG</td>\n",
       "    </tr>\n",
       "    <tr>\n",
       "      <th>246184</th>\n",
       "      <td>513200</td>\n",
       "      <td>DCGSSGIRL</td>\n",
       "      <td>GIRLS PARTY BAG</td>\n",
       "    </tr>\n",
       "    <tr>\n",
       "      <th>249938</th>\n",
       "      <td>513574</td>\n",
       "      <td>DCGSSGIRL</td>\n",
       "      <td>GIRLS PARTY BAG</td>\n",
       "    </tr>\n",
       "    <tr>\n",
       "      <th>251930</th>\n",
       "      <td>513655</td>\n",
       "      <td>DCGSSGIRL</td>\n",
       "      <td>GIRLS PARTY BAG</td>\n",
       "    </tr>\n",
       "    <tr>\n",
       "      <th>253997</th>\n",
       "      <td>513907</td>\n",
       "      <td>DCGSSGIRL</td>\n",
       "      <td>GIRLS PARTY BAG</td>\n",
       "    </tr>\n",
       "    <tr>\n",
       "      <th>385192</th>\n",
       "      <td>526405</td>\n",
       "      <td>DCGSSGIRL</td>\n",
       "      <td>GIRLS PARTY BAG</td>\n",
       "    </tr>\n",
       "    <tr>\n",
       "      <th>425616</th>\n",
       "      <td>530060</td>\n",
       "      <td>DCGSSGIRL</td>\n",
       "      <td>GIRLS PARTY BAG</td>\n",
       "    </tr>\n",
       "    <tr>\n",
       "      <th>427107</th>\n",
       "      <td>530140</td>\n",
       "      <td>DCGSSGIRL</td>\n",
       "      <td>GIRLS PARTY BAG</td>\n",
       "    </tr>\n",
       "    <tr>\n",
       "      <th>465555</th>\n",
       "      <td>533338</td>\n",
       "      <td>DCGSSGIRL</td>\n",
       "      <td>GIRLS PARTY BAG</td>\n",
       "    </tr>\n",
       "    <tr>\n",
       "      <th>496963</th>\n",
       "      <td>535835</td>\n",
       "      <td>DCGSSGIRL</td>\n",
       "      <td>GIRLS PARTY BAG</td>\n",
       "    </tr>\n",
       "  </tbody>\n",
       "</table>\n",
       "</div>"
      ],
      "text/plain": [
       "       Invoice  StockCode      Description\n",
       "241372  512738  DCGSSGIRL           update\n",
       "244831  513099  DCGSSGIRL  GIRLS PARTY BAG\n",
       "246184  513200  DCGSSGIRL  GIRLS PARTY BAG\n",
       "249938  513574  DCGSSGIRL  GIRLS PARTY BAG\n",
       "251930  513655  DCGSSGIRL  GIRLS PARTY BAG\n",
       "253997  513907  DCGSSGIRL  GIRLS PARTY BAG\n",
       "385192  526405  DCGSSGIRL  GIRLS PARTY BAG\n",
       "425616  530060  DCGSSGIRL  GIRLS PARTY BAG\n",
       "427107  530140  DCGSSGIRL  GIRLS PARTY BAG\n",
       "465555  533338  DCGSSGIRL  GIRLS PARTY BAG\n",
       "496963  535835  DCGSSGIRL  GIRLS PARTY BAG"
      ]
     },
     "execution_count": 146,
     "metadata": {},
     "output_type": "execute_result"
    }
   ],
   "source": [
    "df[df['StockCode'] == 'DCGSSGIRL']"
   ]
  },
  {
   "cell_type": "code",
   "execution_count": 147,
   "metadata": {},
   "outputs": [],
   "source": [
    "df = df[~df['StockCode'].isin(multiple_descriptions['StockCode'])]"
   ]
  },
  {
   "cell_type": "code",
   "execution_count": 148,
   "metadata": {},
   "outputs": [],
   "source": [
    "# check StockCode"
   ]
  },
  {
   "cell_type": "code",
   "execution_count": 149,
   "metadata": {},
   "outputs": [],
   "source": [
    "stockcode_counts = df.groupby('Description').agg(number_stockcode=('StockCode', pd.Series.nunique)).reset_index()"
   ]
  },
  {
   "cell_type": "code",
   "execution_count": 150,
   "metadata": {},
   "outputs": [],
   "source": [
    "multiple_stockcode = stockcode_counts[stockcode_counts['number_stockcode'] > 1]"
   ]
  },
  {
   "cell_type": "code",
   "execution_count": 151,
   "metadata": {},
   "outputs": [],
   "source": [
    "multiple_stockcode = multiple_stockcode.sort_values(\"number_stockcode\", ascending=False)"
   ]
  },
  {
   "cell_type": "code",
   "execution_count": 152,
   "metadata": {},
   "outputs": [
    {
     "data": {
      "text/html": [
       "<div>\n",
       "<style scoped>\n",
       "    .dataframe tbody tr th:only-of-type {\n",
       "        vertical-align: middle;\n",
       "    }\n",
       "\n",
       "    .dataframe tbody tr th {\n",
       "        vertical-align: top;\n",
       "    }\n",
       "\n",
       "    .dataframe thead th {\n",
       "        text-align: right;\n",
       "    }\n",
       "</style>\n",
       "<table border=\"1\" class=\"dataframe\">\n",
       "  <thead>\n",
       "    <tr style=\"text-align: right;\">\n",
       "      <th></th>\n",
       "      <th>Description</th>\n",
       "      <th>number_stockcode</th>\n",
       "    </tr>\n",
       "  </thead>\n",
       "  <tbody>\n",
       "    <tr>\n",
       "      <th>1844</th>\n",
       "      <td>METAL SIGN,CUPCAKE SINGLE HOOK</td>\n",
       "      <td>6</td>\n",
       "    </tr>\n",
       "    <tr>\n",
       "      <th>3450</th>\n",
       "      <td>damages</td>\n",
       "      <td>3</td>\n",
       "    </tr>\n",
       "    <tr>\n",
       "      <th>803</th>\n",
       "      <td>COLOURING PENCILS BROWN TUBE</td>\n",
       "      <td>3</td>\n",
       "    </tr>\n",
       "    <tr>\n",
       "      <th>2709</th>\n",
       "      <td>SET OF 3 PINK FLYING DUCKS</td>\n",
       "      <td>2</td>\n",
       "    </tr>\n",
       "    <tr>\n",
       "      <th>2630</th>\n",
       "      <td>S/4 IVORY MINI ROSE CANDLE IN BOWL</td>\n",
       "      <td>2</td>\n",
       "    </tr>\n",
       "    <tr>\n",
       "      <th>...</th>\n",
       "      <td>...</td>\n",
       "      <td>...</td>\n",
       "    </tr>\n",
       "    <tr>\n",
       "      <th>1073</th>\n",
       "      <td>ENGLISH ROSE NOTEBOOK A7 SIZE</td>\n",
       "      <td>2</td>\n",
       "    </tr>\n",
       "    <tr>\n",
       "      <th>1068</th>\n",
       "      <td>ENGLISH ROSE HOT WATER BOTTLE</td>\n",
       "      <td>2</td>\n",
       "    </tr>\n",
       "    <tr>\n",
       "      <th>1057</th>\n",
       "      <td>ENAMEL PINK TEA CONTAINER</td>\n",
       "      <td>2</td>\n",
       "    </tr>\n",
       "    <tr>\n",
       "      <th>1026</th>\n",
       "      <td>EDWARDIAN PARASOL PINK</td>\n",
       "      <td>2</td>\n",
       "    </tr>\n",
       "    <tr>\n",
       "      <th>2034</th>\n",
       "      <td>PACK 20 ENGLISH ROSE PAPER NAPKINS</td>\n",
       "      <td>2</td>\n",
       "    </tr>\n",
       "  </tbody>\n",
       "</table>\n",
       "<p>129 rows × 2 columns</p>\n",
       "</div>"
      ],
      "text/plain": [
       "                             Description  number_stockcode\n",
       "1844      METAL SIGN,CUPCAKE SINGLE HOOK                 6\n",
       "3450                             damages                 3\n",
       "803         COLOURING PENCILS BROWN TUBE                 3\n",
       "2709          SET OF 3 PINK FLYING DUCKS                 2\n",
       "2630  S/4 IVORY MINI ROSE CANDLE IN BOWL                 2\n",
       "...                                  ...               ...\n",
       "1073       ENGLISH ROSE NOTEBOOK A7 SIZE                 2\n",
       "1068       ENGLISH ROSE HOT WATER BOTTLE                 2\n",
       "1057           ENAMEL PINK TEA CONTAINER                 2\n",
       "1026              EDWARDIAN PARASOL PINK                 2\n",
       "2034  PACK 20 ENGLISH ROSE PAPER NAPKINS                 2\n",
       "\n",
       "[129 rows x 2 columns]"
      ]
     },
     "execution_count": 152,
     "metadata": {},
     "output_type": "execute_result"
    }
   ],
   "source": [
    "multiple_stockcode"
   ]
  },
  {
   "cell_type": "code",
   "execution_count": 153,
   "metadata": {},
   "outputs": [
    {
     "data": {
      "text/html": [
       "<div>\n",
       "<style scoped>\n",
       "    .dataframe tbody tr th:only-of-type {\n",
       "        vertical-align: middle;\n",
       "    }\n",
       "\n",
       "    .dataframe tbody tr th {\n",
       "        vertical-align: top;\n",
       "    }\n",
       "\n",
       "    .dataframe thead th {\n",
       "        text-align: right;\n",
       "    }\n",
       "</style>\n",
       "<table border=\"1\" class=\"dataframe\">\n",
       "  <thead>\n",
       "    <tr style=\"text-align: right;\">\n",
       "      <th></th>\n",
       "      <th>Invoice</th>\n",
       "      <th>StockCode</th>\n",
       "      <th>Description</th>\n",
       "    </tr>\n",
       "  </thead>\n",
       "  <tbody>\n",
       "    <tr>\n",
       "      <th>3168</th>\n",
       "      <td>489663</td>\n",
       "      <td>35605A</td>\n",
       "      <td>damages</td>\n",
       "    </tr>\n",
       "    <tr>\n",
       "      <th>73227</th>\n",
       "      <td>496006</td>\n",
       "      <td>84641</td>\n",
       "      <td>damages</td>\n",
       "    </tr>\n",
       "    <tr>\n",
       "      <th>91575</th>\n",
       "      <td>498034</td>\n",
       "      <td>35978</td>\n",
       "      <td>damages</td>\n",
       "    </tr>\n",
       "    <tr>\n",
       "      <th>265660</th>\n",
       "      <td>515069</td>\n",
       "      <td>35978</td>\n",
       "      <td>damages</td>\n",
       "    </tr>\n",
       "  </tbody>\n",
       "</table>\n",
       "</div>"
      ],
      "text/plain": [
       "       Invoice StockCode Description\n",
       "3168    489663    35605A     damages\n",
       "73227   496006     84641     damages\n",
       "91575   498034     35978     damages\n",
       "265660  515069     35978     damages"
      ]
     },
     "execution_count": 153,
     "metadata": {},
     "output_type": "execute_result"
    }
   ],
   "source": [
    "df[df['Description'] == 'damages']"
   ]
  },
  {
   "cell_type": "code",
   "execution_count": 154,
   "metadata": {},
   "outputs": [],
   "source": [
    "df = df[~df['Description'].isin(multiple_stockcode['Description'])]"
   ]
  },
  {
   "cell_type": "code",
   "execution_count": 155,
   "metadata": {},
   "outputs": [],
   "source": [
    "# check unique value (again)"
   ]
  },
  {
   "cell_type": "code",
   "execution_count": 156,
   "metadata": {},
   "outputs": [
    {
     "name": "stdout",
     "output_type": "stream",
     "text": [
      "Columns name:  Invoice\n",
      "Unique value:  [489434 489436 489437 ... 538169 538170 538171]\n",
      "Count unique value:  22799\n",
      "----------\n",
      "Columns name:  StockCode\n",
      "Unique value:  [85048 '79323P' 22041 ... 22935 22933 21120]\n",
      "Count unique value:  3325\n",
      "----------\n",
      "Columns name:  Description\n",
      "Unique value:  ['15CM CHRISTMAS GLASS BALL 20 LIGHTS' 'PINK CHERRY LIGHTS'\n",
      " 'RECORD FRAME 7\" SINGLE SIZE ' ... 'BAKING MOULD ROSE MILK CHOCOLATE'\n",
      " 'BAKING MOULD EASTER EGG MILK CHOC' '*Boombox Ipod Classic']\n",
      "Count unique value:  3325\n",
      "----------\n"
     ]
    }
   ],
   "source": [
    "for i in df.columns:\n",
    "    print('Columns name: ', i)\n",
    "    print('Unique value: ', df[i].unique())\n",
    "    print('Count unique value: ', df[i].nunique())\n",
    "    print('-'*10)"
   ]
  },
  {
   "cell_type": "code",
   "execution_count": 157,
   "metadata": {},
   "outputs": [
    {
     "ename": "SyntaxError",
     "evalue": "invalid syntax (402238255.py, line 1)",
     "output_type": "error",
     "traceback": [
      "\u001b[1;36m  Cell \u001b[1;32mIn[157], line 1\u001b[1;36m\u001b[0m\n\u001b[1;33m    **\u001b[0m\n\u001b[1;37m    ^\u001b[0m\n\u001b[1;31mSyntaxError\u001b[0m\u001b[1;31m:\u001b[0m invalid syntax\n"
     ]
    }
   ],
   "source": [
    "**"
   ]
  },
  {
   "cell_type": "markdown",
   "metadata": {},
   "source": [
    "# 3. Exploratory data analysis (EDA)"
   ]
  },
  {
   "cell_type": "code",
   "execution_count": 158,
   "metadata": {},
   "outputs": [
    {
     "data": {
      "text/html": [
       "<div>\n",
       "<style scoped>\n",
       "    .dataframe tbody tr th:only-of-type {\n",
       "        vertical-align: middle;\n",
       "    }\n",
       "\n",
       "    .dataframe tbody tr th {\n",
       "        vertical-align: top;\n",
       "    }\n",
       "\n",
       "    .dataframe thead th {\n",
       "        text-align: right;\n",
       "    }\n",
       "</style>\n",
       "<table border=\"1\" class=\"dataframe\">\n",
       "  <thead>\n",
       "    <tr style=\"text-align: right;\">\n",
       "      <th></th>\n",
       "      <th>Invoice</th>\n",
       "      <th>StockCode</th>\n",
       "      <th>Description</th>\n",
       "    </tr>\n",
       "  </thead>\n",
       "  <tbody>\n",
       "    <tr>\n",
       "      <th>0</th>\n",
       "      <td>489434</td>\n",
       "      <td>85048</td>\n",
       "      <td>15CM CHRISTMAS GLASS BALL 20 LIGHTS</td>\n",
       "    </tr>\n",
       "    <tr>\n",
       "      <th>1</th>\n",
       "      <td>489434</td>\n",
       "      <td>79323P</td>\n",
       "      <td>PINK CHERRY LIGHTS</td>\n",
       "    </tr>\n",
       "    <tr>\n",
       "      <th>3</th>\n",
       "      <td>489434</td>\n",
       "      <td>22041</td>\n",
       "      <td>RECORD FRAME 7\" SINGLE SIZE</td>\n",
       "    </tr>\n",
       "    <tr>\n",
       "      <th>4</th>\n",
       "      <td>489434</td>\n",
       "      <td>21232</td>\n",
       "      <td>STRAWBERRY CERAMIC TRINKET BOX</td>\n",
       "    </tr>\n",
       "    <tr>\n",
       "      <th>5</th>\n",
       "      <td>489434</td>\n",
       "      <td>22064</td>\n",
       "      <td>PINK DOUGHNUT TRINKET POT</td>\n",
       "    </tr>\n",
       "    <tr>\n",
       "      <th>...</th>\n",
       "      <td>...</td>\n",
       "      <td>...</td>\n",
       "      <td>...</td>\n",
       "    </tr>\n",
       "    <tr>\n",
       "      <th>525456</th>\n",
       "      <td>538171</td>\n",
       "      <td>22271</td>\n",
       "      <td>FELTCRAFT DOLL ROSIE</td>\n",
       "    </tr>\n",
       "    <tr>\n",
       "      <th>525457</th>\n",
       "      <td>538171</td>\n",
       "      <td>22750</td>\n",
       "      <td>FELTCRAFT PRINCESS LOLA DOLL</td>\n",
       "    </tr>\n",
       "    <tr>\n",
       "      <th>525458</th>\n",
       "      <td>538171</td>\n",
       "      <td>22751</td>\n",
       "      <td>FELTCRAFT PRINCESS OLIVIA DOLL</td>\n",
       "    </tr>\n",
       "    <tr>\n",
       "      <th>525459</th>\n",
       "      <td>538171</td>\n",
       "      <td>20970</td>\n",
       "      <td>PINK FLORAL FELTCRAFT SHOULDER BAG</td>\n",
       "    </tr>\n",
       "    <tr>\n",
       "      <th>525460</th>\n",
       "      <td>538171</td>\n",
       "      <td>21931</td>\n",
       "      <td>JUMBO STORAGE BAG SUKI</td>\n",
       "    </tr>\n",
       "  </tbody>\n",
       "</table>\n",
       "<p>343329 rows × 3 columns</p>\n",
       "</div>"
      ],
      "text/plain": [
       "       Invoice StockCode                          Description\n",
       "0       489434     85048  15CM CHRISTMAS GLASS BALL 20 LIGHTS\n",
       "1       489434    79323P                   PINK CHERRY LIGHTS\n",
       "3       489434     22041         RECORD FRAME 7\" SINGLE SIZE \n",
       "4       489434     21232       STRAWBERRY CERAMIC TRINKET BOX\n",
       "5       489434     22064           PINK DOUGHNUT TRINKET POT \n",
       "...        ...       ...                                  ...\n",
       "525456  538171     22271                 FELTCRAFT DOLL ROSIE\n",
       "525457  538171     22750         FELTCRAFT PRINCESS LOLA DOLL\n",
       "525458  538171     22751       FELTCRAFT PRINCESS OLIVIA DOLL\n",
       "525459  538171     20970   PINK FLORAL FELTCRAFT SHOULDER BAG\n",
       "525460  538171     21931               JUMBO STORAGE BAG SUKI\n",
       "\n",
       "[343329 rows x 3 columns]"
      ]
     },
     "execution_count": 158,
     "metadata": {},
     "output_type": "execute_result"
    }
   ],
   "source": [
    "df"
   ]
  },
  {
   "cell_type": "code",
   "execution_count": 162,
   "metadata": {},
   "outputs": [
    {
     "data": {
      "image/png": "[encoded data removed]",
      "text/plain": [
       "<Figure size 1400x800 with 1 Axes>"
      ]
     },
     "metadata": {},
     "output_type": "display_data"
    }
   ],
   "source": [
    "# Calculate count of each Description\n",
    "stockcode_counts = df['Description'].value_counts().head(100)\n",
    "\n",
    "# Task 1: Plot count of top 100 Description\n",
    "plt.figure(figsize=(14, 8))\n",
    "sns.barplot(x=stockcode_counts.index, y=stockcode_counts.values, palette='viridis')\n",
    "plt.title('Top 100 Count of Description')\n",
    "plt.xlabel('Description')\n",
    "plt.ylabel('Count')\n",
    "plt.xticks(rotation=90)\n",
    "plt.show()"
   ]
  },
  {
   "cell_type": "code",
   "execution_count": 163,
   "metadata": {},
   "outputs": [
    {
     "data": {
      "image/png": "[encoded data removed]",
      "text/plain": [
       "<Figure size 1000x600 with 1 Axes>"
      ]
     },
     "metadata": {},
     "output_type": "display_data"
    }
   ],
   "source": [
    "plt.figure(figsize=(10, 6))\n",
    "stockcode_per_invoice = df.groupby('Invoice')['Description'].nunique()\n",
    "stockcode_per_invoice.plot(kind='hist', bins=range(1, stockcode_per_invoice.max() + 1), edgecolor='black')\n",
    "plt.title('Number of Description in Invoice')\n",
    "plt.xlabel('Number of Description')\n",
    "plt.ylabel('Frequency')\n",
    "plt.show()"
   ]
  },
  {
   "cell_type": "code",
   "execution_count": null,
   "metadata": {},
   "outputs": [],
   "source": [
    "# it seems data contains outliner"
   ]
  },
  {
   "cell_type": "code",
   "execution_count": 171,
   "metadata": {},
   "outputs": [
    {
     "data": {
      "text/plain": [
       "Invoice\n",
       "537434     507\n",
       "538071     475\n",
       "537237     459\n",
       "537823     454\n",
       "537638     444\n",
       "          ... \n",
       "C493538      1\n",
       "514517       1\n",
       "C493647      1\n",
       "504710       1\n",
       "520231       1\n",
       "Name: Description, Length: 22799, dtype: int64"
      ]
     },
     "execution_count": 171,
     "metadata": {},
     "output_type": "execute_result"
    }
   ],
   "source": [
    "stockcode_per_invoice.sort_values(ascending=False)"
   ]
  },
  {
   "cell_type": "markdown",
   "metadata": {},
   "source": [
    "# 4. Feature engineering"
   ]
  },
  {
   "cell_type": "markdown",
   "metadata": {},
   "source": [
    "target"
   ]
  },
  {
   "cell_type": "code",
   "execution_count": null,
   "metadata": {},
   "outputs": [],
   "source": [
    "# target"
   ]
  },
  {
   "cell_type": "code",
   "execution_count": null,
   "metadata": {},
   "outputs": [],
   "source": [
    "df['Churn'] = df['Churn'].apply(lambda x: 1 if x == 'Yes' else 0)"
   ]
  },
  {
   "cell_type": "markdown",
   "metadata": {},
   "source": [
    "features"
   ]
  },
  {
   "cell_type": "code",
   "execution_count": null,
   "metadata": {},
   "outputs": [],
   "source": [
    "# PaymentMethod (one hot)"
   ]
  },
  {
   "cell_type": "code",
   "execution_count": null,
   "metadata": {},
   "outputs": [],
   "source": [
    "for payment_method in df['PaymentMethod'].unique():\n",
    "    df['PaymentMethod_' + payment_method] = df['PaymentMethod'].apply(lambda x: 1 if x == payment_method else 0)\n",
    "df = df.drop('PaymentMethod', axis=1)"
   ]
  },
  {
   "cell_type": "code",
   "execution_count": null,
   "metadata": {},
   "outputs": [],
   "source": [
    "# Gender"
   ]
  },
  {
   "cell_type": "code",
   "execution_count": null,
   "metadata": {},
   "outputs": [],
   "source": [
    "df['gender'] = df['gender'].apply(lambda x: 1 if x == 'Male' else 0)"
   ]
  },
  {
   "cell_type": "code",
   "execution_count": null,
   "metadata": {},
   "outputs": [],
   "source": [
    "# Partner"
   ]
  },
  {
   "cell_type": "code",
   "execution_count": null,
   "metadata": {},
   "outputs": [],
   "source": [
    "df['Partner'] = df['Partner'].apply(lambda x: 1 if x == 'Yes' else 0)"
   ]
  },
  {
   "cell_type": "code",
   "execution_count": null,
   "metadata": {},
   "outputs": [],
   "source": [
    "# Dependents"
   ]
  },
  {
   "cell_type": "code",
   "execution_count": null,
   "metadata": {},
   "outputs": [],
   "source": [
    "df['Dependents'] = df['Dependents'].apply(lambda x: 1 if x == 'Yes' else 0)"
   ]
  },
  {
   "cell_type": "code",
   "execution_count": null,
   "metadata": {},
   "outputs": [],
   "source": [
    "# PhoneService"
   ]
  },
  {
   "cell_type": "code",
   "execution_count": null,
   "metadata": {},
   "outputs": [],
   "source": [
    "df['PhoneService'] = df['PhoneService'].apply(lambda x: 1 if x == 'Yes' else 0)"
   ]
  },
  {
   "cell_type": "code",
   "execution_count": null,
   "metadata": {},
   "outputs": [],
   "source": [
    "# MultipleLines"
   ]
  },
  {
   "cell_type": "code",
   "execution_count": null,
   "metadata": {},
   "outputs": [],
   "source": [
    "df['MultipleLines'] = df['MultipleLines'].apply(lambda x: 1 if x == 'Yes' else 0)"
   ]
  },
  {
   "cell_type": "code",
   "execution_count": null,
   "metadata": {},
   "outputs": [],
   "source": [
    "# InternetService"
   ]
  },
  {
   "cell_type": "code",
   "execution_count": null,
   "metadata": {},
   "outputs": [],
   "source": [
    "df['InternetService'] = df['InternetService'].apply(lambda x: 2 if x == 'Fiber optic' else 1 if x == 'DSL' else 0)"
   ]
  },
  {
   "cell_type": "code",
   "execution_count": null,
   "metadata": {},
   "outputs": [],
   "source": [
    "# OnlineSecurity"
   ]
  },
  {
   "cell_type": "code",
   "execution_count": null,
   "metadata": {},
   "outputs": [],
   "source": [
    "df['OnlineSecurity'] = df['OnlineSecurity'].apply(lambda x: 1 if x == 'Yes' else 0)"
   ]
  },
  {
   "cell_type": "code",
   "execution_count": null,
   "metadata": {},
   "outputs": [],
   "source": [
    "# OnlineBackup"
   ]
  },
  {
   "cell_type": "code",
   "execution_count": null,
   "metadata": {},
   "outputs": [],
   "source": [
    "df['OnlineBackup'] = df['OnlineBackup'].apply(lambda x: 1 if x == 'Yes' else 0)"
   ]
  },
  {
   "cell_type": "code",
   "execution_count": null,
   "metadata": {},
   "outputs": [],
   "source": [
    "# DeviceProtection"
   ]
  },
  {
   "cell_type": "code",
   "execution_count": null,
   "metadata": {},
   "outputs": [],
   "source": [
    "df['DeviceProtection'] = df['DeviceProtection'].apply(lambda x: 1 if x == 'Yes' else 0)"
   ]
  },
  {
   "cell_type": "code",
   "execution_count": null,
   "metadata": {},
   "outputs": [],
   "source": [
    "# TechSupport"
   ]
  },
  {
   "cell_type": "code",
   "execution_count": null,
   "metadata": {},
   "outputs": [],
   "source": [
    "df['TechSupport'] = df['TechSupport'].apply(lambda x: 1 if x == 'Yes' else 0)"
   ]
  },
  {
   "cell_type": "code",
   "execution_count": null,
   "metadata": {},
   "outputs": [],
   "source": [
    "# StreamingTV"
   ]
  },
  {
   "cell_type": "code",
   "execution_count": null,
   "metadata": {},
   "outputs": [],
   "source": [
    "df['StreamingTV'] = df['StreamingTV'].apply(lambda x: 1 if x == 'Yes' else 0)"
   ]
  },
  {
   "cell_type": "code",
   "execution_count": null,
   "metadata": {},
   "outputs": [],
   "source": [
    "# StreamingMovies"
   ]
  },
  {
   "cell_type": "code",
   "execution_count": null,
   "metadata": {},
   "outputs": [],
   "source": [
    "df['StreamingMovies'] = df['StreamingMovies'].apply(lambda x: 1 if x == 'Yes' else 0)"
   ]
  },
  {
   "cell_type": "code",
   "execution_count": null,
   "metadata": {},
   "outputs": [],
   "source": [
    "# Contract"
   ]
  },
  {
   "cell_type": "code",
   "execution_count": null,
   "metadata": {},
   "outputs": [],
   "source": [
    "df['Contract'] = df['Contract'].apply(lambda x: 0 if x == 'Month-to-month' else 1 if x == 'One year' else 2)"
   ]
  },
  {
   "cell_type": "code",
   "execution_count": null,
   "metadata": {},
   "outputs": [],
   "source": [
    "# PaperlessBilling"
   ]
  },
  {
   "cell_type": "code",
   "execution_count": null,
   "metadata": {},
   "outputs": [],
   "source": [
    "df['PaperlessBilling'] = df['PaperlessBilling'].apply(lambda x: 1 if x == 'Yes' else 0)"
   ]
  },
  {
   "cell_type": "markdown",
   "metadata": {},
   "source": [
    "fill na"
   ]
  },
  {
   "cell_type": "code",
   "execution_count": null,
   "metadata": {},
   "outputs": [],
   "source": [
    "df.isna().sum()"
   ]
  },
  {
   "cell_type": "code",
   "execution_count": null,
   "metadata": {},
   "outputs": [],
   "source": [
    "# TotalCharges"
   ]
  },
  {
   "cell_type": "code",
   "execution_count": null,
   "metadata": {},
   "outputs": [],
   "source": [
    "median_tol_charges = df['TotalCharges'].median()"
   ]
  },
  {
   "cell_type": "code",
   "execution_count": null,
   "metadata": {},
   "outputs": [],
   "source": [
    "median_tol_charges"
   ]
  },
  {
   "cell_type": "code",
   "execution_count": null,
   "metadata": {},
   "outputs": [],
   "source": [
    "df['TotalCharges'].fillna(median_tol_charges, inplace=True)"
   ]
  },
  {
   "cell_type": "code",
   "execution_count": null,
   "metadata": {},
   "outputs": [],
   "source": [
    "df.isna().sum()"
   ]
  },
  {
   "cell_type": "markdown",
   "metadata": {},
   "source": [
    "drop unnecessary columns"
   ]
  },
  {
   "cell_type": "code",
   "execution_count": null,
   "metadata": {},
   "outputs": [],
   "source": [
    "# drop customerID"
   ]
  },
  {
   "cell_type": "code",
   "execution_count": null,
   "metadata": {},
   "outputs": [],
   "source": [
    "df.drop(columns = 'customerID', inplace = True)"
   ]
  },
  {
   "cell_type": "markdown",
   "metadata": {},
   "source": [
    "correlation"
   ]
  },
  {
   "cell_type": "code",
   "execution_count": null,
   "metadata": {},
   "outputs": [],
   "source": [
    "# check correlation"
   ]
  },
  {
   "cell_type": "code",
   "execution_count": null,
   "metadata": {},
   "outputs": [],
   "source": [
    "corr = df.corr()"
   ]
  },
  {
   "cell_type": "code",
   "execution_count": null,
   "metadata": {},
   "outputs": [],
   "source": [
    "fig, ax = plt.subplots(figsize=(20, 5))\n",
    "sns.heatmap(corr, annot=True, ax=ax)"
   ]
  },
  {
   "cell_type": "code",
   "execution_count": null,
   "metadata": {},
   "outputs": [],
   "source": [
    "corr_churn_table = corr['Churn'].sort_values(ascending=False)"
   ]
  },
  {
   "cell_type": "code",
   "execution_count": null,
   "metadata": {},
   "outputs": [],
   "source": [
    "corr_churn_table"
   ]
  },
  {
   "cell_type": "code",
   "execution_count": null,
   "metadata": {},
   "outputs": [],
   "source": [
    "corr_churn_abs_table = corr['Churn'].abs().sort_values(ascending=False)"
   ]
  },
  {
   "cell_type": "code",
   "execution_count": null,
   "metadata": {},
   "outputs": [],
   "source": [
    "corr_churn_abs_table"
   ]
  },
  {
   "cell_type": "markdown",
   "metadata": {},
   "source": [
    "# 5. Model"
   ]
  },
  {
   "cell_type": "code",
   "execution_count": null,
   "metadata": {},
   "outputs": [],
   "source": [
    "# Only Class 0\n",
    "# Only Class 1\n",
    "\n",
    "# Normalized > SMOTE > RF (Random Search)\n",
    "# Normalized > SMOTE > LightGBM (Random Search)\n",
    "# Normalized > SMOTE > XGBoost (Random Search)\n",
    "\n",
    "# Normalized > ADASYN > RF (Random Search)\n",
    "# Normalized > ADASYN > LightGBM (Random Search)\n",
    "# Normalized > ADASYN > XGBoost (Random Search)\n",
    "\n",
    "# Normalized > RUS > RF (Random Search)\n",
    "# Normalized > RUS > LightGBM (Random Search)\n",
    "# Normalized > RUS > XGBoost (Random Search)"
   ]
  },
  {
   "cell_type": "markdown",
   "metadata": {},
   "source": [
    "Step 1: Train/Test/Validation Split"
   ]
  },
  {
   "cell_type": "code",
   "execution_count": null,
   "metadata": {},
   "outputs": [],
   "source": [
    "train_df, test_df = train_test_split(df, test_size=0.2, random_state=42)\n",
    "train_df, val_df = train_test_split(train_df, test_size=0.2, random_state=42)"
   ]
  },
  {
   "cell_type": "code",
   "execution_count": null,
   "metadata": {},
   "outputs": [],
   "source": [
    "X_train = train_df.drop(columns=['Churn'])\n",
    "y_train = train_df['Churn']\n",
    "X_val = val_df.drop(columns=['Churn'])\n",
    "y_val = val_df['Churn']\n",
    "X_test = test_df.drop(columns=['Churn'])\n",
    "y_test = test_df['Churn']"
   ]
  },
  {
   "cell_type": "code",
   "execution_count": null,
   "metadata": {},
   "outputs": [],
   "source": [
    "print(X_train.shape)\n",
    "print(y_train.shape)\n",
    "\n",
    "print(X_val.shape)\n",
    "print(y_val.shape)\n",
    " \n",
    "print(X_test.shape)\n",
    "print(y_test.shape)"
   ]
  },
  {
   "cell_type": "markdown",
   "metadata": {},
   "source": [
    "Step 2: Normalize Min-Max Scaling"
   ]
  },
  {
   "cell_type": "code",
   "execution_count": null,
   "metadata": {},
   "outputs": [],
   "source": [
    "scaler = MinMaxScaler()"
   ]
  },
  {
   "cell_type": "code",
   "execution_count": null,
   "metadata": {},
   "outputs": [],
   "source": [
    "X_train_scaled = scaler.fit_transform(X_train)\n",
    "X_val_scaled = scaler.transform(X_val)\n",
    "X_test_scaled = scaler.transform(X_test)"
   ]
  },
  {
   "cell_type": "markdown",
   "metadata": {},
   "source": [
    "Step 3.1: predicts only 1"
   ]
  },
  {
   "cell_type": "code",
   "execution_count": null,
   "metadata": {},
   "outputs": [],
   "source": [
    "dummy_all_churn = DummyClassifier(strategy='constant', constant=1)\n",
    "dummy_all_churn.fit(X_train_scaled, y_train)"
   ]
  },
  {
   "cell_type": "markdown",
   "metadata": {},
   "source": [
    "Step 3.2: predicts only 0"
   ]
  },
  {
   "cell_type": "code",
   "execution_count": null,
   "metadata": {},
   "outputs": [],
   "source": [
    "dummy_all_not_churn = DummyClassifier(strategy='constant', constant=0)\n",
    "dummy_all_not_churn.fit(X_train_scaled, y_train)"
   ]
  },
  {
   "cell_type": "markdown",
   "metadata": {},
   "source": [
    "Step 3.3: Smote + RF"
   ]
  },
  {
   "cell_type": "code",
   "execution_count": null,
   "metadata": {},
   "outputs": [],
   "source": [
    "smote = SMOTE(random_state=42)\n",
    "X_train_smote, y_train_smote = smote.fit_resample(X_train_scaled, y_train)"
   ]
  },
  {
   "cell_type": "code",
   "execution_count": null,
   "metadata": {},
   "outputs": [],
   "source": [
    "rf_params = {\n",
    "    'n_estimators': [100, 200, 300],\n",
    "    'max_depth': [None, 10, 20, 30],\n",
    "    'min_samples_split': [2, 5, 10],\n",
    "    'min_samples_leaf': [1, 2, 4],\n",
    "    'max_features': ['auto', 'sqrt'],\n",
    "    'bootstrap': [True, False]\n",
    "}\n",
    "rf = RandomForestClassifier(random_state=42)\n",
    "rf_smote_random_search = RandomizedSearchCV(rf, param_distributions=rf_params, n_iter=20, cv=3, random_state=42, scoring='roc_auc', n_jobs=-1)\n",
    "rf_smote_random_search.fit(X_train_smote, y_train_smote)"
   ]
  },
  {
   "cell_type": "code",
   "execution_count": null,
   "metadata": {},
   "outputs": [],
   "source": [
    "rf_smote_random_search.best_score_"
   ]
  },
  {
   "cell_type": "code",
   "execution_count": null,
   "metadata": {},
   "outputs": [],
   "source": [
    "rf_smote = rf_smote_random_search.best_estimator_"
   ]
  },
  {
   "cell_type": "markdown",
   "metadata": {},
   "source": [
    "Step 3.4: Smote + LGBM"
   ]
  },
  {
   "cell_type": "code",
   "execution_count": null,
   "metadata": {},
   "outputs": [],
   "source": [
    "lgbm_params = {\n",
    "    'num_leaves': [31, 50, 100],\n",
    "    'learning_rate': [0.01, 0.05, 0.1],\n",
    "    'n_estimators': [100, 200, 300],\n",
    "    'max_depth': [-1, 10, 20, 30],\n",
    "    'min_child_samples': [20, 50, 100],\n",
    "    'subsample': [0.8, 0.9, 1.0],\n",
    "    'colsample_bytree': [0.8, 0.9, 1.0]\n",
    "}\n",
    "lgbm = LGBMClassifier(random_state=42)\n",
    "lgbm_smote_random_search = RandomizedSearchCV(lgbm, param_distributions=lgbm_params, n_iter=20, cv=3, random_state=42, scoring='roc_auc', n_jobs=-1)\n",
    "lgbm_smote_random_search.fit(X_train_smote, y_train_smote)"
   ]
  },
  {
   "cell_type": "code",
   "execution_count": null,
   "metadata": {},
   "outputs": [],
   "source": [
    "lgbm_smote_random_search.best_score_"
   ]
  },
  {
   "cell_type": "code",
   "execution_count": null,
   "metadata": {},
   "outputs": [],
   "source": [
    "lgbm_smote = lgbm_smote_random_search.best_estimator_"
   ]
  },
  {
   "cell_type": "markdown",
   "metadata": {},
   "source": [
    "Step 3.5: Smote + XGB"
   ]
  },
  {
   "cell_type": "code",
   "execution_count": null,
   "metadata": {},
   "outputs": [],
   "source": [
    "xgb_params = {\n",
    "    'learning_rate': [0.01, 0.05, 0.1],\n",
    "    'n_estimators': [100, 200, 300],\n",
    "    'max_depth': [3, 4, 5, 6],\n",
    "    'min_child_weight': [1, 3, 5],\n",
    "    'subsample': [0.8, 0.9, 1.0],\n",
    "    'colsample_bytree': [0.8, 0.9, 1.0],\n",
    "    'gamma': [0, 0.1, 0.2]\n",
    "}\n",
    "xgb = XGBClassifier(random_state=42)\n",
    "xgb_smote_random_search = RandomizedSearchCV(xgb, param_distributions=xgb_params, n_iter=20, cv=3, random_state=42, scoring='roc_auc', n_jobs=-1)\n",
    "xgb_smote_random_search.fit(X_train_smote, y_train_smote)"
   ]
  },
  {
   "cell_type": "code",
   "execution_count": null,
   "metadata": {},
   "outputs": [],
   "source": [
    "xgb_smote_random_search.best_score_"
   ]
  },
  {
   "cell_type": "code",
   "execution_count": null,
   "metadata": {},
   "outputs": [],
   "source": [
    "xgb_smote = xgb_smote_random_search.best_estimator_"
   ]
  },
  {
   "cell_type": "markdown",
   "metadata": {},
   "source": [
    "Step 3.6: ADASYN + RF"
   ]
  },
  {
   "cell_type": "code",
   "execution_count": null,
   "metadata": {},
   "outputs": [],
   "source": [
    "adasyn = ADASYN(random_state=42)\n",
    "X_train_adasyn, y_train_adasyn = adasyn.fit_resample(X_train_scaled, y_train)"
   ]
  },
  {
   "cell_type": "code",
   "execution_count": null,
   "metadata": {},
   "outputs": [],
   "source": [
    "rf_params = {\n",
    "    'n_estimators': [100, 200, 300],\n",
    "    'max_depth': [None, 10, 20, 30],\n",
    "    'min_samples_split': [2, 5, 10],\n",
    "    'min_samples_leaf': [1, 2, 4],\n",
    "    'max_features': ['auto', 'sqrt'],\n",
    "    'bootstrap': [True, False]\n",
    "}\n",
    "rf = RandomForestClassifier(random_state=42)\n",
    "rf_adasyn_random_search = RandomizedSearchCV(rf, param_distributions=rf_params, n_iter=20, cv=3, random_state=42, scoring='roc_auc', n_jobs=-1)\n",
    "rf_adasyn_random_search.fit(X_train_adasyn, y_train_adasyn)"
   ]
  },
  {
   "cell_type": "code",
   "execution_count": null,
   "metadata": {},
   "outputs": [],
   "source": [
    "rf_adasyn_random_search.best_score_"
   ]
  },
  {
   "cell_type": "code",
   "execution_count": null,
   "metadata": {},
   "outputs": [],
   "source": [
    "rf_adasyn = rf_adasyn_random_search.best_estimator_"
   ]
  },
  {
   "cell_type": "markdown",
   "metadata": {},
   "source": [
    "Step 3.7: ADASYN + LGBM"
   ]
  },
  {
   "cell_type": "code",
   "execution_count": null,
   "metadata": {},
   "outputs": [],
   "source": [
    "lgbm_params = {\n",
    "    'num_leaves': [31, 50, 100],\n",
    "    'learning_rate': [0.01, 0.05, 0.1],\n",
    "    'n_estimators': [100, 200, 300],\n",
    "    'max_depth': [-1, 10, 20, 30],\n",
    "    'min_child_samples': [20, 50, 100],\n",
    "    'subsample': [0.8, 0.9, 1.0],\n",
    "    'colsample_bytree': [0.8, 0.9, 1.0]\n",
    "}\n",
    "lgbm = LGBMClassifier(random_state=42)\n",
    "lgbm_adasyn_random_search = RandomizedSearchCV(lgbm, param_distributions=lgbm_params, n_iter=20, cv=3, random_state=42, scoring='roc_auc', n_jobs=-1)\n",
    "lgbm_adasyn_random_search.fit(X_train_adasyn, y_train_adasyn)"
   ]
  },
  {
   "cell_type": "code",
   "execution_count": null,
   "metadata": {},
   "outputs": [],
   "source": [
    "lgbm_adasyn_random_search.best_score_"
   ]
  },
  {
   "cell_type": "code",
   "execution_count": null,
   "metadata": {},
   "outputs": [],
   "source": [
    "lgbm_adasyn = lgbm_adasyn_random_search.best_estimator_"
   ]
  },
  {
   "cell_type": "markdown",
   "metadata": {},
   "source": [
    "Step 3.8: ADASYN + XGB"
   ]
  },
  {
   "cell_type": "code",
   "execution_count": null,
   "metadata": {},
   "outputs": [],
   "source": [
    "xgb_params = {\n",
    "    'learning_rate': [0.01, 0.05, 0.1],\n",
    "    'n_estimators': [100, 200, 300],\n",
    "    'max_depth': [3, 4, 5, 6],\n",
    "    'min_child_weight': [1, 3, 5],\n",
    "    'subsample': [0.8, 0.9, 1.0],\n",
    "    'colsample_bytree': [0.8, 0.9, 1.0],\n",
    "    'gamma': [0, 0.1, 0.2]\n",
    "}\n",
    "xgb = XGBClassifier(random_state=42)\n",
    "xgb_adasyn_random_search = RandomizedSearchCV(xgb, param_distributions=xgb_params, n_iter=20, cv=3, random_state=42, scoring='roc_auc', n_jobs=-1)\n",
    "xgb_adasyn_random_search.fit(X_train_adasyn, y_train_adasyn)"
   ]
  },
  {
   "cell_type": "code",
   "execution_count": null,
   "metadata": {},
   "outputs": [],
   "source": [
    "xgb_adasyn_random_search.best_score_"
   ]
  },
  {
   "cell_type": "code",
   "execution_count": null,
   "metadata": {},
   "outputs": [],
   "source": [
    "xgb_adasyn = xgb_adasyn_random_search.best_estimator_"
   ]
  },
  {
   "cell_type": "markdown",
   "metadata": {},
   "source": [
    "Step 3.9: RUS + RF"
   ]
  },
  {
   "cell_type": "code",
   "execution_count": null,
   "metadata": {},
   "outputs": [],
   "source": [
    "rus = RandomUnderSampler(random_state=42)\n",
    "X_train_rus, y_train_rus = rus.fit_resample(X_train_scaled, y_train)"
   ]
  },
  {
   "cell_type": "code",
   "execution_count": null,
   "metadata": {},
   "outputs": [],
   "source": [
    "rf_params = {\n",
    "    'n_estimators': [100, 200, 300],\n",
    "    'max_depth': [None, 10, 20, 30],\n",
    "    'min_samples_split': [2, 5, 10],\n",
    "    'min_samples_leaf': [1, 2, 4],\n",
    "    'max_features': ['auto', 'sqrt'],\n",
    "    'bootstrap': [True, False]\n",
    "}\n",
    "rf = RandomForestClassifier(random_state=42)\n",
    "rf_rus_random_search = RandomizedSearchCV(rf, param_distributions=rf_params, n_iter=20, cv=3, random_state=42, scoring='roc_auc', n_jobs=-1)\n",
    "rf_rus_random_search.fit(X_train_rus, y_train_rus)"
   ]
  },
  {
   "cell_type": "code",
   "execution_count": null,
   "metadata": {},
   "outputs": [],
   "source": [
    "rf_rus_random_search.best_score_"
   ]
  },
  {
   "cell_type": "code",
   "execution_count": null,
   "metadata": {},
   "outputs": [],
   "source": [
    "rf_rus = rf_rus_random_search.best_estimator_"
   ]
  },
  {
   "cell_type": "markdown",
   "metadata": {},
   "source": [
    "Step 3.10: RUS + LGBM"
   ]
  },
  {
   "cell_type": "code",
   "execution_count": null,
   "metadata": {},
   "outputs": [],
   "source": [
    "lgbm_params = {\n",
    "    'num_leaves': [31, 50, 100],\n",
    "    'learning_rate': [0.01, 0.05, 0.1],\n",
    "    'n_estimators': [100, 200, 300],\n",
    "    'max_depth': [-1, 10, 20, 30],\n",
    "    'min_child_samples': [20, 50, 100],\n",
    "    'subsample': [0.8, 0.9, 1.0],\n",
    "    'colsample_bytree': [0.8, 0.9, 1.0]\n",
    "}\n",
    "lgbm_rus = LGBMClassifier(random_state=42)\n",
    "lgbm_rus_random_search = RandomizedSearchCV(lgbm_rus, param_distributions=lgbm_params, n_iter=20, cv=3, random_state=42, scoring='roc_auc', n_jobs=-1)\n",
    "lgbm_rus_random_search.fit(X_train_rus, y_train_rus)"
   ]
  },
  {
   "cell_type": "code",
   "execution_count": null,
   "metadata": {},
   "outputs": [],
   "source": [
    "lgbm_rus_random_search.best_score_"
   ]
  },
  {
   "cell_type": "code",
   "execution_count": null,
   "metadata": {},
   "outputs": [],
   "source": [
    "lgbm_rus = lgbm_rus_random_search.best_estimator_"
   ]
  },
  {
   "cell_type": "markdown",
   "metadata": {},
   "source": [
    "Step 3.11: RUS + XGB"
   ]
  },
  {
   "cell_type": "code",
   "execution_count": null,
   "metadata": {},
   "outputs": [],
   "source": [
    "xgb_params = {\n",
    "    'learning_rate': [0.01, 0.05, 0.1],\n",
    "    'n_estimators': [100, 200, 300],\n",
    "    'max_depth': [3, 4, 5, 6],\n",
    "    'min_child_weight': [1, 3, 5],\n",
    "    'subsample': [0.8, 0.9, 1.0],\n",
    "    'colsample_bytree': [0.8, 0.9, 1.0],\n",
    "    'gamma': [0, 0.1, 0.2]\n",
    "}\n",
    "xgb_rus = XGBClassifier(random_state=42)\n",
    "xgb_rus_random_search = RandomizedSearchCV(xgb_rus, param_distributions=xgb_params, n_iter=20, cv=3, random_state=42, scoring='roc_auc', n_jobs=-1)\n",
    "xgb_rus_random_search.fit(X_train_rus, y_train_rus)"
   ]
  },
  {
   "cell_type": "code",
   "execution_count": null,
   "metadata": {},
   "outputs": [],
   "source": [
    "xgb_rus_random_search.best_score_"
   ]
  },
  {
   "cell_type": "code",
   "execution_count": null,
   "metadata": {},
   "outputs": [],
   "source": [
    "xgb_rus = xgb_rus_random_search.best_estimator_"
   ]
  },
  {
   "cell_type": "markdown",
   "metadata": {},
   "source": [
    "# 6. Result (precision/recall/AUC-ROC)"
   ]
  },
  {
   "cell_type": "code",
   "execution_count": null,
   "metadata": {},
   "outputs": [],
   "source": [
    "models = {\n",
    "    'Dummy Model (All Churn)': dummy_all_churn,\n",
    "    'Dummy Model (All Not Churn)': dummy_all_not_churn,\n",
    "    'Random Forest (SMOTE)': rf_smote,\n",
    "    'LightGBM (SMOTE)': lgbm_smote,\n",
    "    'XGBoost (SMOTE)': xgb_smote,\n",
    "\n",
    "    'Random Forest (ADASYN)': rf_adasyn,\n",
    "    'LightGBM (ADASYN)': lgbm_adasyn,\n",
    "    'XGBoost (ADASYN)': xgb_adasyn,\n",
    "\n",
    "    'Random Forest (RUS)': rf_rus,\n",
    "    'LightGBM (RUS)': lgbm_rus,\n",
    "    'XGBoost (RUS)': xgb_rus\n",
    "}"
   ]
  },
  {
   "cell_type": "code",
   "execution_count": null,
   "metadata": {},
   "outputs": [],
   "source": [
    "summary_metrics = pd.DataFrame(columns=['Model', 'Observation', 'TP', 'TN', 'FP', 'FN', 'Precision', 'Recall', 'AUCROC'])"
   ]
  },
  {
   "cell_type": "code",
   "execution_count": null,
   "metadata": {},
   "outputs": [],
   "source": [
    "for model_name, model in models.items():\n",
    "    y_pred = model.predict(X_test_scaled)\n",
    "    cm = confusion_matrix(y_test, y_pred)\n",
    "    tp = cm[1, 1]\n",
    "    tn = cm[0, 0]\n",
    "    fp = cm[0, 1]\n",
    "    fn = cm[1, 0]\n",
    "    recall = tp / (tp + fn)\n",
    "    precision = tp / (tp + fp)\n",
    "    auc_roc = roc_auc_score(y_test, model.predict_proba(X_test_scaled)[:, 1])\n",
    "\n",
    "    model_summary = pd.DataFrame({\n",
    "        'Model': [model_name],\n",
    "        'Observation': [len(y_test)],\n",
    "        'TP': [tp],\n",
    "        'TN': [tn],\n",
    "        'FP': [fp],\n",
    "        'FN': [fn],\n",
    "        'Precision': [precision],\n",
    "        'Recall': [recall],\n",
    "        'AUCROC': [auc_roc]\n",
    "    })\n",
    "\n",
    "    summary_metrics = pd.concat([summary_metrics, model_summary], ignore_index=True)"
   ]
  },
  {
   "cell_type": "code",
   "execution_count": null,
   "metadata": {},
   "outputs": [],
   "source": [
    "summary_metrics"
   ]
  },
  {
   "cell_type": "markdown",
   "metadata": {},
   "source": [
    "# 7. Threshold tunning"
   ]
  },
  {
   "cell_type": "code",
   "execution_count": null,
   "metadata": {},
   "outputs": [],
   "source": [
    "# Assume\n",
    "# Cost of promotion = 100\n",
    "# Cost of losing customer = 500 (5 times)"
   ]
  },
  {
   "cell_type": "code",
   "execution_count": null,
   "metadata": {},
   "outputs": [],
   "source": [
    "# ref from https://github.com/stephenblount/Churn_Classification/blob/main/Final_Analysis/Churn_Analysis_Final.ipynb"
   ]
  },
  {
   "cell_type": "code",
   "execution_count": null,
   "metadata": {},
   "outputs": [],
   "source": [
    "cost_promotion = 100\n",
    "cost_loss = 500\n",
    "savings_per_customer = 500"
   ]
  },
  {
   "cell_type": "code",
   "execution_count": null,
   "metadata": {},
   "outputs": [],
   "source": [
    "thresholds = np.linspace(0, 1, 101)  # 101 thresholds from 0 to 1"
   ]
  },
  {
   "cell_type": "code",
   "execution_count": null,
   "metadata": {},
   "outputs": [],
   "source": [
    "best_thresholds = {}\n",
    "gains_val = {}\n",
    "gains_test = {}"
   ]
  },
  {
   "cell_type": "code",
   "execution_count": null,
   "metadata": {},
   "outputs": [],
   "source": [
    "for model_name, model in models.items():\n",
    "\n",
    "    model_gains_val = []\n",
    "    model_gains_test = []\n",
    "\n",
    "    y_pred_proba = model.predict_proba(X_val_scaled)[:, 1]\n",
    "    if model_name == 'Dummy Model (All Churn)':\n",
    "        y_pred_proba = y_pred_proba + 0.1\n",
    "    elif model_name == 'Dummy Model (All Not Churn)':\n",
    "        y_pred_proba = y_pred_proba - 0.1\n",
    "\n",
    "    model_gains = []\n",
    "    for threshold in thresholds:\n",
    "        y_pred = (y_pred_proba > threshold).astype(int)\n",
    "        cm = confusion_matrix(y_val, y_pred)\n",
    "        costs = (cm[0, 1] * cost_promotion) + (cm[1, 0] * cost_loss)\n",
    "        savings = cm[1, 1] * savings_per_customer\n",
    "        gain = savings - costs\n",
    "        model_gains.append(gain)\n",
    "\n",
    "    best_threshold_idx = np.argmax(model_gains)\n",
    "    best_threshold = thresholds[best_threshold_idx]\n",
    "    \n",
    "    best_thresholds[model_name] = (best_threshold, max(model_gains))\n",
    "    gains_val[model_name] = model_gains\n",
    "    \n",
    "    y_test_pred_proba = model.predict_proba(X_test_scaled)[:, 1]\n",
    "    if model_name == 'Dummy Model (All Churn)':\n",
    "        y_test_pred_proba = y_test_pred_proba + 0.1\n",
    "    elif model_name == 'Dummy Model (All Not Churn)':\n",
    "        y_test_pred_proba = y_test_pred_proba - 0.1 \n",
    "\n",
    "    y_test_pred = (y_test_pred_proba > best_threshold).astype(int)\n",
    "    cm_test = confusion_matrix(y_test, y_test_pred)  \n",
    "    costs_test = (cm_test[0, 1] * cost_promotion) + (cm_test[1, 0] * cost_loss)\n",
    "    savings_test = cm_test[1, 1] * savings_per_customer   \n",
    "    gain_test = savings_test - costs_test\n",
    "\n",
    "    gains_test[model_name] = gain_test"
   ]
  },
  {
   "cell_type": "code",
   "execution_count": null,
   "metadata": {},
   "outputs": [],
   "source": [
    "best_thresholds"
   ]
  },
  {
   "cell_type": "code",
   "execution_count": null,
   "metadata": {},
   "outputs": [],
   "source": [
    "gains_test"
   ]
  },
  {
   "cell_type": "code",
   "execution_count": null,
   "metadata": {},
   "outputs": [],
   "source": [
    "summary_thresholds = pd.DataFrame(columns=['Model', 'Best Threshold', 'Validation Gain', 'Test Gain'])"
   ]
  },
  {
   "cell_type": "code",
   "execution_count": null,
   "metadata": {},
   "outputs": [],
   "source": [
    "for model_name, model_gains_val in gains_val.items():\n",
    "    best_threshold, _ = best_thresholds[model_name]\n",
    "\n",
    "    model_summary_thresholds = pd.DataFrame({\n",
    "        'Model': [model_name],\n",
    "        'Best Threshold': [best_threshold],\n",
    "        'Validation Gain': [max(model_gains_val)],\n",
    "        'Test Gain': [gains_test[model_name]]\n",
    "    })\n",
    "\n",
    "    summary_thresholds = pd.concat([summary_thresholds, model_summary_thresholds], ignore_index=True)"
   ]
  },
  {
   "cell_type": "code",
   "execution_count": null,
   "metadata": {},
   "outputs": [],
   "source": [
    "summary_thresholds"
   ]
  },
  {
   "cell_type": "markdown",
   "metadata": {},
   "source": [
    "# 8. Result (threshold/cost)"
   ]
  },
  {
   "cell_type": "code",
   "execution_count": null,
   "metadata": {},
   "outputs": [],
   "source": [
    "summary_df = pd.merge(summary_metrics, summary_thresholds, on=\"Model\", how=\"left\")"
   ]
  },
  {
   "cell_type": "code",
   "execution_count": null,
   "metadata": {},
   "outputs": [],
   "source": [
    "summary_df"
   ]
  },
  {
   "cell_type": "code",
   "execution_count": null,
   "metadata": {},
   "outputs": [],
   "source": [
    "y_test.shape"
   ]
  },
  {
   "cell_type": "code",
   "execution_count": null,
   "metadata": {},
   "outputs": [],
   "source": [
    "# rf_rus is the best model in term of gains"
   ]
  },
  {
   "cell_type": "markdown",
   "metadata": {},
   "source": [
    "# 9. SHAP"
   ]
  },
  {
   "cell_type": "code",
   "execution_count": null,
   "metadata": {},
   "outputs": [],
   "source": [
    "column_names = X_train.columns.tolist()"
   ]
  },
  {
   "cell_type": "code",
   "execution_count": null,
   "metadata": {},
   "outputs": [],
   "source": [
    "explainer = shap.Explainer(lgbm_rus)\n",
    "shap_values = explainer.shap_values(X_train_rus)"
   ]
  },
  {
   "cell_type": "code",
   "execution_count": null,
   "metadata": {},
   "outputs": [],
   "source": [
    "explanation = shap.Explanation(values=shap_values[0], data=X_train_rus, feature_names=column_names)"
   ]
  },
  {
   "cell_type": "code",
   "execution_count": null,
   "metadata": {},
   "outputs": [],
   "source": [
    "shap.plots.beeswarm(explanation)\n",
    "plt.show()"
   ]
  },
  {
   "cell_type": "code",
   "execution_count": null,
   "metadata": {},
   "outputs": [],
   "source": [
    "# top 5 impact features are 1. contract 2. tenue 3. monthlycharges 4. internetservince 5. Payment method (electronic check)"
   ]
  }
 ],
 "metadata": {
  "kernelspec": {
   "display_name": "base",
   "language": "python",
   "name": "python3"
  },
  "language_info": {
   "codemirror_mode": {
    "name": "ipython",
    "version": 3
   },
   "file_extension": ".py",
   "mimetype": "text/x-python",
   "name": "python",
   "nbconvert_exporter": "python",
   "pygments_lexer": "ipython3",
   "version": "3.11.5"
  },
  "orig_nbformat": 4
 },
 "nbformat": 4,
 "nbformat_minor": 2
}
